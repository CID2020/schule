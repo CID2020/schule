{
 "cells": [
  {
   "cell_type": "code",
   "execution_count": 18,
   "metadata": {},
   "outputs": [
    {
     "name": "stdout",
     "output_type": "stream",
     "text": [
      "geeks\n"
     ]
    }
   ],
   "source": [
    "\n",
    "import random\n",
    "  \n",
    "mylist = [\"geeks\", \"for\", \"python\"]\n",
    "  \n",
    "print(random.choices(mylist, weights = [2, 1, 1])[0])"
   ]
  }
 ],
 "metadata": {
  "kernelspec": {
   "display_name": "venv_pygame",
   "language": "python",
   "name": "python3"
  },
  "language_info": {
   "codemirror_mode": {
    "name": "ipython",
    "version": 3
   },
   "file_extension": ".py",
   "mimetype": "text/x-python",
   "name": "python",
   "nbconvert_exporter": "python",
   "pygments_lexer": "ipython3",
   "version": "3.10.6"
  },
  "orig_nbformat": 4
 },
 "nbformat": 4,
 "nbformat_minor": 2
}
